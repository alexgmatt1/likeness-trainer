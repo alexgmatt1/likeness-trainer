{
 "cells": [
  {
   "cell_type": "code",
   "execution_count": 1,
   "id": "517dfe51-c9db-4097-8b88-b7fce62c170c",
   "metadata": {},
   "outputs": [],
   "source": [
    "import psycopg2\n",
    "import pandas as pd\n",
    "import datetime\n",
    "\n",
    "from login import LOGIN_KWARGS"
   ]
  },
  {
   "cell_type": "code",
   "execution_count": 2,
   "id": "dbc5f8bc-1cde-4346-978e-8308b0a3e1d6",
   "metadata": {},
   "outputs": [],
   "source": [
    "conn = psycopg2.connect(**LOGIN_KWARGS)"
   ]
  },
  {
   "cell_type": "code",
   "execution_count": 3,
   "id": "be527a44-ebb0-4956-a8bf-f76fd40ddcbd",
   "metadata": {},
   "outputs": [],
   "source": [
    "cur = conn.cursor()\n",
    "cur.execute(\"begin transaction\")"
   ]
  },
  {
   "cell_type": "code",
   "execution_count": 5,
   "id": "3f573181-d3d0-4e53-aa30-2cd63f848753",
   "metadata": {
    "tags": []
   },
   "outputs": [
    {
     "data": {
      "text/plain": [
       "[('48297413',),\n",
       " ('27927048',),\n",
       " ('99497524',),\n",
       " ('38249914',),\n",
       " ('4321',),\n",
       " ('19038446',),\n",
       " ('19103958',)]"
      ]
     },
     "execution_count": 5,
     "metadata": {},
     "output_type": "execute_result"
    }
   ],
   "source": [
    "cur.execute(\"select distinct username from votes\")\n",
    "cur.fetchall()"
   ]
  },
  {
   "cell_type": "code",
   "execution_count": 9,
   "id": "925f09ad-80bd-4b62-a25f-771b4be32490",
   "metadata": {
    "tags": []
   },
   "outputs": [
    {
     "data": {
      "text/plain": [
       "[(1390,)]"
      ]
     },
     "execution_count": 9,
     "metadata": {},
     "output_type": "execute_result"
    }
   ],
   "source": [
    "cur.execute(\"select COUNT(*) from votes where length(username) = 8\")\n",
    "cur.fetchall()"
   ]
  },
  {
   "cell_type": "code",
   "execution_count": 4,
   "id": "e6bdb4da-b97a-4291-b752-95ed9512cee2",
   "metadata": {},
   "outputs": [
    {
     "data": {
      "text/plain": [
       "[('username', 1),\n",
       " ('age', 2),\n",
       " ('gender', 4),\n",
       " ('country', 5),\n",
       " ('region', 6),\n",
       " ('ethnicity', 7)]"
      ]
     },
     "execution_count": 4,
     "metadata": {},
     "output_type": "execute_result"
    }
   ],
   "source": [
    "cur.execute(\"select column_name, ordinal_position from information_schema.columns where table_name='users' order by ordinal_position\")\n",
    "cur.fetchall()"
   ]
  },
  {
   "cell_type": "code",
   "execution_count": 5,
   "id": "0d55c136-dbcd-42cd-beae-693d1d700da8",
   "metadata": {
    "tags": []
   },
   "outputs": [
    {
     "data": {
      "text/plain": [
       "[('username', 1),\n",
       " ('chosen_image_filename', 2),\n",
       " ('other_image_filename', 3),\n",
       " ('timestamp', 4)]"
      ]
     },
     "execution_count": 5,
     "metadata": {},
     "output_type": "execute_result"
    }
   ],
   "source": [
    "cur.execute(\"select column_name, ordinal_position from information_schema.columns where table_name='votes' order by ordinal_position\")\n",
    "cur.fetchall()"
   ]
  },
  {
   "cell_type": "code",
   "execution_count": null,
   "id": "af8a7748-1001-4958-b77f-20a52199a644",
   "metadata": {},
   "outputs": [],
   "source": [
    "cur.execute(\"select * from users\")\n",
    "cur.fetchall()"
   ]
  },
  {
   "cell_type": "code",
   "execution_count": 63,
   "id": "28058c1f-d50d-4614-b374-e3c9339f5233",
   "metadata": {},
   "outputs": [
    {
     "data": {
      "text/html": [
       "<div>\n",
       "<style scoped>\n",
       "    .dataframe tbody tr th:only-of-type {\n",
       "        vertical-align: middle;\n",
       "    }\n",
       "\n",
       "    .dataframe tbody tr th {\n",
       "        vertical-align: top;\n",
       "    }\n",
       "\n",
       "    .dataframe thead th {\n",
       "        text-align: right;\n",
       "    }\n",
       "</style>\n",
       "<table border=\"1\" class=\"dataframe\">\n",
       "  <thead>\n",
       "    <tr style=\"text-align: right;\">\n",
       "      <th></th>\n",
       "      <th>0</th>\n",
       "      <th>1</th>\n",
       "      <th>2</th>\n",
       "      <th>3</th>\n",
       "    </tr>\n",
       "  </thead>\n",
       "  <tbody>\n",
       "    <tr>\n",
       "      <th>0</th>\n",
       "      <td>users</td>\n",
       "      <td>1</td>\n",
       "      <td>character varying</td>\n",
       "      <td>username</td>\n",
       "    </tr>\n",
       "    <tr>\n",
       "      <th>1</th>\n",
       "      <td>users</td>\n",
       "      <td>2</td>\n",
       "      <td>integer</td>\n",
       "      <td>age</td>\n",
       "    </tr>\n",
       "    <tr>\n",
       "      <th>2</th>\n",
       "      <td>users</td>\n",
       "      <td>4</td>\n",
       "      <td>USER-DEFINED</td>\n",
       "      <td>gender</td>\n",
       "    </tr>\n",
       "    <tr>\n",
       "      <th>3</th>\n",
       "      <td>votes</td>\n",
       "      <td>1</td>\n",
       "      <td>character varying</td>\n",
       "      <td>username</td>\n",
       "    </tr>\n",
       "    <tr>\n",
       "      <th>4</th>\n",
       "      <td>votes</td>\n",
       "      <td>2</td>\n",
       "      <td>character varying</td>\n",
       "      <td>chosen_image_filename</td>\n",
       "    </tr>\n",
       "    <tr>\n",
       "      <th>5</th>\n",
       "      <td>votes</td>\n",
       "      <td>3</td>\n",
       "      <td>character varying</td>\n",
       "      <td>other_image_filename</td>\n",
       "    </tr>\n",
       "    <tr>\n",
       "      <th>6</th>\n",
       "      <td>votes</td>\n",
       "      <td>4</td>\n",
       "      <td>timestamp without time zone</td>\n",
       "      <td>time</td>\n",
       "    </tr>\n",
       "  </tbody>\n",
       "</table>\n",
       "</div>"
      ],
      "text/plain": [
       "       0  1                            2                      3\n",
       "0  users  1            character varying               username\n",
       "1  users  2                      integer                    age\n",
       "2  users  4                 USER-DEFINED                 gender\n",
       "3  votes  1            character varying               username\n",
       "4  votes  2            character varying  chosen_image_filename\n",
       "5  votes  3            character varying   other_image_filename\n",
       "6  votes  4  timestamp without time zone                   time"
      ]
     },
     "execution_count": 63,
     "metadata": {},
     "output_type": "execute_result"
    }
   ],
   "source": [
    "cur.execute(\"select table_name, ordinal_position, data_type, column_name from information_schema.columns where table_name='votes' or table_name='users' order by table_name, ordinal_position\")\n",
    "res = cur.fetchall()\n",
    "pd.DataFrame(res)"
   ]
  },
  {
   "cell_type": "code",
   "execution_count": 8,
   "id": "e43b5937-eaf5-439b-bf98-13c0ab297b75",
   "metadata": {},
   "outputs": [
    {
     "ename": "UniqueViolation",
     "evalue": "duplicate key value violates unique constraint \"users_pkey\"\nDETAIL:  Key (username)=(bob) already exists.\n",
     "output_type": "error",
     "traceback": [
      "\u001b[0;31m---------------------------------------------------------------------------\u001b[0m",
      "\u001b[0;31mUniqueViolation\u001b[0m                           Traceback (most recent call last)",
      "Cell \u001b[0;32mIn[8], line 1\u001b[0m\n\u001b[0;32m----> 1\u001b[0m \u001b[43mcur\u001b[49m\u001b[38;5;241;43m.\u001b[39;49m\u001b[43mexecute\u001b[49m\u001b[43m(\u001b[49m\u001b[38;5;124;43m\"\u001b[39;49m\u001b[38;5;124;43minsert into users (username, age, gender) values (\u001b[39;49m\u001b[38;5;132;43;01m%s\u001b[39;49;00m\u001b[38;5;124;43m, \u001b[39;49m\u001b[38;5;132;43;01m%s\u001b[39;49;00m\u001b[38;5;124;43m, \u001b[39;49m\u001b[38;5;132;43;01m%s\u001b[39;49;00m\u001b[38;5;124;43m)\u001b[39;49m\u001b[38;5;124;43m\"\u001b[39;49m\u001b[43m,\u001b[49m\u001b[43m \u001b[49m\u001b[43m(\u001b[49m\u001b[38;5;124;43m\"\u001b[39;49m\u001b[38;5;124;43mbob\u001b[39;49m\u001b[38;5;124;43m\"\u001b[39;49m\u001b[43m,\u001b[49m\u001b[43m \u001b[49m\u001b[38;5;241;43m9\u001b[39;49m\u001b[43m,\u001b[49m\u001b[43m \u001b[49m\u001b[38;5;124;43m\"\u001b[39;49m\u001b[38;5;124;43mMale\u001b[39;49m\u001b[38;5;124;43m\"\u001b[39;49m\u001b[43m)\u001b[49m\u001b[43m)\u001b[49m\n",
      "\u001b[0;31mUniqueViolation\u001b[0m: duplicate key value violates unique constraint \"users_pkey\"\nDETAIL:  Key (username)=(bob) already exists.\n"
     ]
    }
   ],
   "source": [
    "cur.execute(\"insert into users (username, age, gender) values (%s, %s, %s)\", (\"bob\", 9, \"Male\"))"
   ]
  },
  {
   "cell_type": "code",
   "execution_count": 9,
   "id": "b5e5a882-a273-45d7-8920-ffc26b7efe94",
   "metadata": {},
   "outputs": [
    {
     "ename": "InFailedSqlTransaction",
     "evalue": "current transaction is aborted, commands ignored until end of transaction block\n",
     "output_type": "error",
     "traceback": [
      "\u001b[0;31m---------------------------------------------------------------------------\u001b[0m",
      "\u001b[0;31mInFailedSqlTransaction\u001b[0m                    Traceback (most recent call last)",
      "Cell \u001b[0;32mIn[9], line 1\u001b[0m\n\u001b[0;32m----> 1\u001b[0m \u001b[43mcur\u001b[49m\u001b[38;5;241;43m.\u001b[39;49m\u001b[43mexecute\u001b[49m\u001b[43m(\u001b[49m\u001b[38;5;124;43m\"\u001b[39;49m\u001b[38;5;124;43minsert into votes (username, chosen_image_filename, other_image_filename, time) values (\u001b[39;49m\u001b[38;5;132;43;01m%s\u001b[39;49;00m\u001b[38;5;124;43m, \u001b[39;49m\u001b[38;5;132;43;01m%s\u001b[39;49;00m\u001b[38;5;124;43m, \u001b[39;49m\u001b[38;5;132;43;01m%s\u001b[39;49;00m\u001b[38;5;124;43m, \u001b[39;49m\u001b[38;5;132;43;01m%s\u001b[39;49;00m\u001b[38;5;124;43m)\u001b[39;49m\u001b[38;5;124;43m\"\u001b[39;49m\u001b[43m,\u001b[49m\u001b[43m \u001b[49m\u001b[43m(\u001b[49m\u001b[38;5;124;43m\"\u001b[39;49m\u001b[38;5;124;43mbob\u001b[39;49m\u001b[38;5;124;43m\"\u001b[39;49m\u001b[43m,\u001b[49m\u001b[43m \u001b[49m\u001b[38;5;124;43m\"\u001b[39;49m\u001b[38;5;124;43ma.png\u001b[39;49m\u001b[38;5;124;43m\"\u001b[39;49m\u001b[43m,\u001b[49m\u001b[43m \u001b[49m\u001b[38;5;124;43m\"\u001b[39;49m\u001b[38;5;124;43mb.png\u001b[39;49m\u001b[38;5;124;43m\"\u001b[39;49m\u001b[43m,\u001b[49m\u001b[43m \u001b[49m\u001b[43mdatetime\u001b[49m\u001b[38;5;241;43m.\u001b[39;49m\u001b[43mdatetime\u001b[49m\u001b[38;5;241;43m.\u001b[39;49m\u001b[43mnow\u001b[49m\u001b[43m(\u001b[49m\u001b[43m)\u001b[49m\u001b[43m)\u001b[49m\u001b[43m)\u001b[49m\n",
      "\u001b[0;31mInFailedSqlTransaction\u001b[0m: current transaction is aborted, commands ignored until end of transaction block\n"
     ]
    }
   ],
   "source": [
    "cur.execute(\"insert into votes (username, chosen_image_filename, other_image_filename, time) values (%s, %s, %s, %s)\", (\"bob\", \"a.png\", \"b.png\", datetime.datetime.now()))"
   ]
  },
  {
   "cell_type": "code",
   "execution_count": 96,
   "id": "e7a8f640-fac0-49f3-8d48-d8451a929aa5",
   "metadata": {},
   "outputs": [],
   "source": [
    "conn.commit()"
   ]
  },
  {
   "cell_type": "code",
   "execution_count": 6,
   "id": "bf9a4748-f3a5-41b9-a010-a654cb9cccaf",
   "metadata": {},
   "outputs": [
    {
     "data": {
      "text/plain": [
       "[('bob', 9, 'Male', None, None, None),\n",
       " ('132435', None, None, None, None, None),\n",
       " ('test123', 48, 'Male', None, None, None),\n",
       " ('test12345', 59, 'Male', None, None, None),\n",
       " ('test1', 22, 'Male', None, None, None),\n",
       " ('4321', 21, 'Male', 'United Kingdom', 'Cambridgeshire', 'English'),\n",
       " ('123456', 21, 'Male', 'Uzbekistan', 'Namangan', 'English')]"
      ]
     },
     "execution_count": 6,
     "metadata": {},
     "output_type": "execute_result"
    }
   ],
   "source": [
    "cur.execute(\"select * from users\")\n",
    "cur.fetchall()"
   ]
  },
  {
   "cell_type": "code",
   "execution_count": 101,
   "id": "e9258c98-1ea7-437f-9dc2-e8f1f3d208c7",
   "metadata": {},
   "outputs": [],
   "source": [
    "cur.execute(\"abort transaction\")"
   ]
  },
  {
   "cell_type": "code",
   "execution_count": 49,
   "id": "5de442b4-2dea-4239-a1fa-1bb3fb161c69",
   "metadata": {},
   "outputs": [
    {
     "data": {
      "text/plain": [
       "[('table_catalog', 1),\n",
       " ('table_schema', 2),\n",
       " ('table_name', 3),\n",
       " ('column_name', 4),\n",
       " ('ordinal_position', 5),\n",
       " ('column_default', 6),\n",
       " ('is_nullable', 7),\n",
       " ('data_type', 8),\n",
       " ('character_maximum_length', 9),\n",
       " ('character_octet_length', 10),\n",
       " ('numeric_precision', 11),\n",
       " ('numeric_precision_radix', 12),\n",
       " ('numeric_scale', 13),\n",
       " ('datetime_precision', 14),\n",
       " ('interval_type', 15),\n",
       " ('interval_precision', 16),\n",
       " ('character_set_catalog', 17),\n",
       " ('character_set_schema', 18),\n",
       " ('character_set_name', 19),\n",
       " ('collation_catalog', 20),\n",
       " ('collation_schema', 21),\n",
       " ('collation_name', 22),\n",
       " ('domain_catalog', 23),\n",
       " ('domain_schema', 24),\n",
       " ('domain_name', 25),\n",
       " ('udt_catalog', 26),\n",
       " ('udt_schema', 27),\n",
       " ('udt_name', 28),\n",
       " ('scope_catalog', 29),\n",
       " ('scope_schema', 30),\n",
       " ('scope_name', 31),\n",
       " ('maximum_cardinality', 32),\n",
       " ('dtd_identifier', 33),\n",
       " ('is_self_referencing', 34),\n",
       " ('is_identity', 35),\n",
       " ('identity_generation', 36),\n",
       " ('identity_start', 37),\n",
       " ('identity_increment', 38),\n",
       " ('identity_maximum', 39),\n",
       " ('identity_minimum', 40),\n",
       " ('identity_cycle', 41),\n",
       " ('is_generated', 42),\n",
       " ('generation_expression', 43),\n",
       " ('is_updatable', 44)]"
      ]
     },
     "execution_count": 49,
     "metadata": {},
     "output_type": "execute_result"
    }
   ],
   "source": [
    "# Tables: users, votes\n",
    "cur.execute(\"select column_name, ordinal_position from information_schema.columns where table_name='columns' order by ordinal_position\")\n",
    "cur.fetchall()"
   ]
  },
  {
   "cell_type": "code",
   "execution_count": 73,
   "id": "ea456c21-7323-4e88-a7fe-7af081d9d972",
   "metadata": {},
   "outputs": [
    {
     "data": {
      "text/plain": [
       "[('table_catalog', 1),\n",
       " ('table_schema', 2),\n",
       " ('table_name', 3),\n",
       " ('table_type', 4),\n",
       " ('self_referencing_column_name', 5),\n",
       " ('reference_generation', 6),\n",
       " ('user_defined_type_catalog', 7),\n",
       " ('user_defined_type_schema', 8),\n",
       " ('user_defined_type_name', 9),\n",
       " ('is_insertable_into', 10),\n",
       " ('is_typed', 11),\n",
       " ('commit_action', 12)]"
      ]
     },
     "execution_count": 73,
     "metadata": {},
     "output_type": "execute_result"
    }
   ],
   "source": [
    "\n",
    "cur.execute(\"select column_name, ordinal_position from information_schema.columns where table_name='tables' order by ordinal_position\")\n",
    "cur.fetchall()"
   ]
  },
  {
   "cell_type": "code",
   "execution_count": 81,
   "id": "1f6e8722-504f-433b-8432-f9fe8104491c",
   "metadata": {},
   "outputs": [
    {
     "data": {
      "text/plain": [
       "[('user_defined_type_catalog', 1),\n",
       " ('user_defined_type_schema', 2),\n",
       " ('user_defined_type_name', 3),\n",
       " ('user_defined_type_category', 4),\n",
       " ('is_instantiable', 5),\n",
       " ('is_final', 6),\n",
       " ('ordering_form', 7),\n",
       " ('ordering_category', 8),\n",
       " ('ordering_routine_catalog', 9),\n",
       " ('ordering_routine_schema', 10),\n",
       " ('ordering_routine_name', 11),\n",
       " ('reference_type', 12),\n",
       " ('data_type', 13),\n",
       " ('character_maximum_length', 14),\n",
       " ('character_octet_length', 15),\n",
       " ('character_set_catalog', 16),\n",
       " ('character_set_schema', 17),\n",
       " ('character_set_name', 18),\n",
       " ('collation_catalog', 19),\n",
       " ('collation_schema', 20),\n",
       " ('collation_name', 21),\n",
       " ('numeric_precision', 22),\n",
       " ('numeric_precision_radix', 23),\n",
       " ('numeric_scale', 24),\n",
       " ('datetime_precision', 25),\n",
       " ('interval_type', 26),\n",
       " ('interval_precision', 27),\n",
       " ('source_dtd_identifier', 28),\n",
       " ('ref_dtd_identifier', 29)]"
      ]
     },
     "execution_count": 81,
     "metadata": {},
     "output_type": "execute_result"
    }
   ],
   "source": [
    "\n",
    "cur.execute(\"select column_name, ordinal_position from information_schema.columns where table_name='user_defined_types' order by ordinal_position\")\n",
    "cur.fetchall()"
   ]
  },
  {
   "cell_type": "markdown",
   "id": "40de9651-eb2c-49bf-a2eb-5d00b82b40cf",
   "metadata": {},
   "source": [
    "# Final code"
   ]
  },
  {
   "cell_type": "code",
   "execution_count": 23,
   "id": "604b86ec-ef32-4c74-9636-5ff06da95db9",
   "metadata": {},
   "outputs": [],
   "source": [
    "def get_cols(cur):\n",
    "    cur.execute(\"select column_name from information_schema.columns where table_name='votes' order by table_name, ordinal_position\")\n",
    "    return [x for (x,) in cur.fetchall()]\n",
    "\n",
    "def get_vote_df(cur):\n",
    "    cur.execute(\"select * from votes\")\n",
    "    votes = cur.fetchall()\n",
    "    cols = get_cols(cur)\n",
    "    data = []\n",
    "    for vote in votes:\n",
    "        assert len(vote) == len(cols)\n",
    "        res = {}\n",
    "        for name, val in zip(cols, vote):\n",
    "            res[name] = val\n",
    "        data.append(res)\n",
    "    return pd.DataFrame(data)"
   ]
  },
  {
   "cell_type": "code",
   "execution_count": 24,
   "id": "93096faf-f04b-4a81-b0a1-abab050b2203",
   "metadata": {},
   "outputs": [
    {
     "data": {
      "text/html": [
       "<div>\n",
       "<style scoped>\n",
       "    .dataframe tbody tr th:only-of-type {\n",
       "        vertical-align: middle;\n",
       "    }\n",
       "\n",
       "    .dataframe tbody tr th {\n",
       "        vertical-align: top;\n",
       "    }\n",
       "\n",
       "    .dataframe thead th {\n",
       "        text-align: right;\n",
       "    }\n",
       "</style>\n",
       "<table border=\"1\" class=\"dataframe\">\n",
       "  <thead>\n",
       "    <tr style=\"text-align: right;\">\n",
       "      <th></th>\n",
       "      <th>username</th>\n",
       "      <th>chosen_image_filename</th>\n",
       "      <th>other_image_filename</th>\n",
       "      <th>timestamp</th>\n",
       "    </tr>\n",
       "  </thead>\n",
       "  <tbody>\n",
       "    <tr>\n",
       "      <th>0</th>\n",
       "      <td>bob</td>\n",
       "      <td>a.png</td>\n",
       "      <td>b.png</td>\n",
       "      <td>2023-02-02 12:59:58.047640</td>\n",
       "    </tr>\n",
       "    <tr>\n",
       "      <th>1</th>\n",
       "      <td>123456</td>\n",
       "      <td>100_1_1.png</td>\n",
       "      <td>100_1_3.png</td>\n",
       "      <td>2023-02-05 21:55:33.564580</td>\n",
       "    </tr>\n",
       "    <tr>\n",
       "      <th>2</th>\n",
       "      <td>123456</td>\n",
       "      <td>100_1_4.png</td>\n",
       "      <td>100_1_1.png</td>\n",
       "      <td>2023-02-05 21:55:33.564580</td>\n",
       "    </tr>\n",
       "    <tr>\n",
       "      <th>3</th>\n",
       "      <td>123456</td>\n",
       "      <td>100_1_1.png</td>\n",
       "      <td>100_1_5.png</td>\n",
       "      <td>2023-02-05 21:55:33.564580</td>\n",
       "    </tr>\n",
       "    <tr>\n",
       "      <th>4</th>\n",
       "      <td>123456</td>\n",
       "      <td>100_1_6.png</td>\n",
       "      <td>100_1_1.png</td>\n",
       "      <td>2023-02-05 21:55:33.564580</td>\n",
       "    </tr>\n",
       "    <tr>\n",
       "      <th>...</th>\n",
       "      <td>...</td>\n",
       "      <td>...</td>\n",
       "      <td>...</td>\n",
       "      <td>...</td>\n",
       "    </tr>\n",
       "    <tr>\n",
       "      <th>89</th>\n",
       "      <td>test1</td>\n",
       "      <td>100_1_1.png</td>\n",
       "      <td>100_1_3.png</td>\n",
       "      <td>2023-02-07 13:49:13.468991</td>\n",
       "    </tr>\n",
       "    <tr>\n",
       "      <th>90</th>\n",
       "      <td>test1</td>\n",
       "      <td>100_1_4.png</td>\n",
       "      <td>100_1_1.png</td>\n",
       "      <td>2023-02-07 13:49:13.468991</td>\n",
       "    </tr>\n",
       "    <tr>\n",
       "      <th>91</th>\n",
       "      <td>test1</td>\n",
       "      <td>100_1_1.png</td>\n",
       "      <td>100_1_5.png</td>\n",
       "      <td>2023-02-07 13:49:13.468991</td>\n",
       "    </tr>\n",
       "    <tr>\n",
       "      <th>92</th>\n",
       "      <td>test1</td>\n",
       "      <td>100_1_6.png</td>\n",
       "      <td>100_1_1.png</td>\n",
       "      <td>2023-02-07 13:49:13.468991</td>\n",
       "    </tr>\n",
       "    <tr>\n",
       "      <th>93</th>\n",
       "      <td>test1</td>\n",
       "      <td>100_1_1.png</td>\n",
       "      <td>100_1_7.png</td>\n",
       "      <td>2023-02-07 13:49:13.468991</td>\n",
       "    </tr>\n",
       "  </tbody>\n",
       "</table>\n",
       "<p>94 rows × 4 columns</p>\n",
       "</div>"
      ],
      "text/plain": [
       "   username chosen_image_filename other_image_filename  \\\n",
       "0       bob                 a.png                b.png   \n",
       "1    123456           100_1_1.png          100_1_3.png   \n",
       "2    123456           100_1_4.png          100_1_1.png   \n",
       "3    123456           100_1_1.png          100_1_5.png   \n",
       "4    123456           100_1_6.png          100_1_1.png   \n",
       "..      ...                   ...                  ...   \n",
       "89    test1           100_1_1.png          100_1_3.png   \n",
       "90    test1           100_1_4.png          100_1_1.png   \n",
       "91    test1           100_1_1.png          100_1_5.png   \n",
       "92    test1           100_1_6.png          100_1_1.png   \n",
       "93    test1           100_1_1.png          100_1_7.png   \n",
       "\n",
       "                    timestamp  \n",
       "0  2023-02-02 12:59:58.047640  \n",
       "1  2023-02-05 21:55:33.564580  \n",
       "2  2023-02-05 21:55:33.564580  \n",
       "3  2023-02-05 21:55:33.564580  \n",
       "4  2023-02-05 21:55:33.564580  \n",
       "..                        ...  \n",
       "89 2023-02-07 13:49:13.468991  \n",
       "90 2023-02-07 13:49:13.468991  \n",
       "91 2023-02-07 13:49:13.468991  \n",
       "92 2023-02-07 13:49:13.468991  \n",
       "93 2023-02-07 13:49:13.468991  \n",
       "\n",
       "[94 rows x 4 columns]"
      ]
     },
     "execution_count": 24,
     "metadata": {},
     "output_type": "execute_result"
    }
   ],
   "source": [
    "with psycopg2.connect(amogus) as conn2:\n",
    "    with conn2.cursor() as cur2:\n",
    "        votes = get_vote_df(cur2)\n",
    "\n",
    "votes"
   ]
  },
  {
   "cell_type": "code",
   "execution_count": 25,
   "id": "a1dfc923-bfc9-4a1c-97b8-e54eed9ce9da",
   "metadata": {},
   "outputs": [
    {
     "data": {
      "text/plain": [
       "array(['100_1_1.png', '100_1_10.png', '100_1_2.png', '100_1_3.png',\n",
       "       '100_1_4.png', '100_1_5.png', '100_1_6.png', '100_1_7.png',\n",
       "       '100_1_8.png', '100_1_9.png', '106_1_1.png', '106_1_10.png',\n",
       "       '106_1_2.png', '106_1_3.png', '106_1_4.png', '106_1_5.png',\n",
       "       '106_1_6.png', '106_1_7.png', '106_1_8.png', '106_1_9.png',\n",
       "       'a.png', 'b.png'], dtype=object)"
      ]
     },
     "execution_count": 25,
     "metadata": {},
     "output_type": "execute_result"
    }
   ],
   "source": [
    "def process_votes(df):\n",
    "    unique_images = pd.concat([df[\"chosen_image_filename\"], df[\"other_image_filename\"]]).unique()\n",
    "    unique_images.sort()\n",
    "    return unique_images\n",
    "\n",
    "process_votes(votes)"
   ]
  },
  {
   "cell_type": "markdown",
   "id": "74cac801-67d0-4926-86ab-c21a712eba8e",
   "metadata": {},
   "source": [
    "# Meeting notes\n",
    "\n",
    "- If we remove features for each drawing, we suddenly end up with a lot of pairwise votes again. What can we do to fix this?\n",
    "A: Nothing. We have enough vots just within our group anyway :P"
   ]
  },
  {
   "cell_type": "code",
   "execution_count": null,
   "id": "c5863a36-6cd5-46c6-a4c1-3759b44b4711",
   "metadata": {},
   "outputs": [],
   "source": []
  }
 ],
 "metadata": {
  "kernelspec": {
   "display_name": "Python 3 (ipykernel)",
   "language": "python",
   "name": "python3"
  },
  "language_info": {
   "codemirror_mode": {
    "name": "ipython",
    "version": 3
   },
   "file_extension": ".py",
   "mimetype": "text/x-python",
   "name": "python",
   "nbconvert_exporter": "python",
   "pygments_lexer": "ipython3",
   "version": "3.10.9"
  }
 },
 "nbformat": 4,
 "nbformat_minor": 5
}
